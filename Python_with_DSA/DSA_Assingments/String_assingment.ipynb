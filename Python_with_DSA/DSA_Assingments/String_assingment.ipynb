{
 "cells": [
  {
   "cell_type": "raw",
   "id": "ba1f2ac9",
   "metadata": {},
   "source": [
    "Section 1: Creating & Accessing Strings (Basic)\n",
    "1. Create three different strings using different quotation methods (single quotes, double\n",
    "quotes, and triple quotes).\n",
    "2. Create a string variable containing your full name and write code to:\n",
    "o Print the first character\n",
    "o Print the last character\n",
    "o Print the length of the string\n",
    "3. Given the string s = \"Python Programming\":\n",
    "o Access and print the letter 'P' in \"Programming\" using positive indexing\n",
    "o Access and print the letter 'P' in \"Programming\" using negative indexing"
   ]
  },
  {
   "cell_type": "code",
   "execution_count": 3,
   "id": "b471807d",
   "metadata": {},
   "outputs": [],
   "source": [
    "string_one='My name is shivam'                             #single quotes\n",
    "string_two=\"My name is Shivam\"                             #double quotes\n",
    "string_three=\"\"\"My name is shivam                          #triple quotes\n",
    "                I use to learn python with dsa\"\"\"    "
   ]
  },
  {
   "cell_type": "code",
   "execution_count": 4,
   "id": "4fcfb8e4",
   "metadata": {},
   "outputs": [
    {
     "name": "stdout",
     "output_type": "stream",
     "text": [
      "first character: s\n",
      "last character: a\n",
      "length of string 13\n"
     ]
    }
   ],
   "source": [
    "#creating a string variable - full name \n",
    "full_name=\"shivam sharma\"\n",
    "print(\"first character:\",full_name[0])\n",
    "print(\"last character:\",full_name[-1])\n",
    "print(\"length of string\",len(full_name))"
   ]
  },
  {
   "cell_type": "code",
   "execution_count": 11,
   "id": "7f54d1a5",
   "metadata": {},
   "outputs": [
    {
     "name": "stdout",
     "output_type": "stream",
     "text": [
      "accessing P using positive indexing: P\n",
      "accessing P using negative indexing P\n"
     ]
    }
   ],
   "source": [
    "s = \"Python Programming\"\n",
    "print(\"accessing P using positive indexing:\",s[7])\n",
    "print(\"accessing P using negative indexing\",s[-11])"
   ]
  },
  {
   "cell_type": "raw",
   "id": "70707d3f",
   "metadata": {
    "vscode": {
     "languageId": "raw"
    }
   },
   "source": [
    "Section 2: Slicing & Extended Slicing (Basic to Intermediate)\n",
    "1. Using the string s = \"Python Programming\":\n",
    "o Extract and print \"Python\"\n",
    "o Extract and print \"Programming\"\n",
    "o Extract and print \"gram\"\n",
    "2. Given s = \"0123456789\":\n",
    "o Extract every even-indexed character\n",
    "o Extract every odd-indexed character\n",
    "o Reverse the string using slicing\n",
    "3. Create a function that takes a string and returns a \"rotated\" version where the first\n",
    "character is moved to the end. For example, \"Python\" becomes \"ythonP\""
   ]
  },
  {
   "cell_type": "code",
   "execution_count": 17,
   "id": "33f2ed2b",
   "metadata": {},
   "outputs": [
    {
     "name": "stdout",
     "output_type": "stream",
     "text": [
      "Python\n",
      "Programming\n",
      "gram\n"
     ]
    }
   ],
   "source": [
    "s = \"Python Programming\"\n",
    "print(s[0:6])    #extracting python\n",
    "print(s[7:])     #extracting programming\n",
    "print(s[10:14])  #extracting gram"
   ]
  },
  {
   "cell_type": "code",
   "execution_count": 23,
   "id": "0b65516f",
   "metadata": {},
   "outputs": [
    {
     "name": "stdout",
     "output_type": "stream",
     "text": [
      "even: 2468\n",
      "odd: 13579\n",
      "reversed: 9876543210\n"
     ]
    }
   ],
   "source": [
    "s = \"0123456789\"\n",
    "print(\"even:\",s[2::2])    #extracting every even-indexed character\n",
    "print(\"odd:\",s[1::2])    #extacting every odd-indexed character\n",
    "print(\"reversed:\",s[-1::-1])  #Reverse the string using slicing"
   ]
  },
  {
   "cell_type": "code",
   "execution_count": 34,
   "id": "9a612cac",
   "metadata": {},
   "outputs": [
    {
     "name": "stdout",
     "output_type": "stream",
     "text": [
      "If we pass string data: ythonP\n",
      "If we pass non-string data: Provide a valid String\n"
     ]
    }
   ],
   "source": [
    "def rotated(s):    \n",
    "    if type(s) == str:  # Check if the input is a string\n",
    "        return s[1:] + s[0]  #Return the rotated string\n",
    "    else:\n",
    "        return \"Provide a valid String\"\n",
    "\n",
    "pass_string=rotated(\"Python\")\n",
    "not_string=rotated(213)\n",
    "print(f\"If we pass string data: {pass_string}\")\n",
    "print(f\"If we pass non-string data: {not_string}\")"
   ]
  },
  {
   "cell_type": "raw",
   "id": "d4fa7e7a",
   "metadata": {
    "vscode": {
     "languageId": "raw"
    }
   },
   "source": [
    "Section 3: Immutability & Interning (Intermediate)\n",
    "1. Demonstrate string immutability with an example. Try to change a character in a string\n",
    "and explain what happens.\n",
    "2. Write code to check if two strings with the same content point to the same memory\n",
    "location. Test this with:\n",
    "o Two string literals with the same content\n",
    "o Two string variables assigned the same string literal\n",
    "o Two string variables created using string operations that result in the same content\n",
    "3. Create a function that efficiently concatenates a large number of strings. Compare your\n",
    "approach with using the + operator in a loop."
   ]
  },
  {
   "cell_type": "code",
   "execution_count": null,
   "id": "168198b1",
   "metadata": {},
   "outputs": [
    {
     "ename": "TypeError",
     "evalue": "'str' object does not support item assignment",
     "output_type": "error",
     "traceback": [
      "\u001b[1;31m---------------------------------------------------------------------------\u001b[0m",
      "\u001b[1;31mTypeError\u001b[0m                                 Traceback (most recent call last)",
      "Cell \u001b[1;32mIn[36], line 3\u001b[0m\n\u001b[0;32m      1\u001b[0m \u001b[38;5;66;03m#string immutability\u001b[39;00m\n\u001b[0;32m      2\u001b[0m s\u001b[38;5;241m=\u001b[39m\u001b[38;5;124m\"\u001b[39m\u001b[38;5;124mShivam\u001b[39m\u001b[38;5;124m\"\u001b[39m\n\u001b[1;32m----> 3\u001b[0m s[\u001b[38;5;241m0\u001b[39m]\u001b[38;5;241m=\u001b[39m\u001b[38;5;124m\"\u001b[39m\u001b[38;5;124mN\u001b[39m\u001b[38;5;124m\"\u001b[39m   \n\u001b[0;32m      4\u001b[0m id_\u001b[38;5;241m=\u001b[39m\u001b[38;5;28mid\u001b[39m(s)\n\u001b[0;32m      5\u001b[0m \u001b[38;5;66;03m#strings are immutable, which means you cannot change an individual character in a string using indexing\u001b[39;00m\n",
      "\u001b[1;31mTypeError\u001b[0m: 'str' object does not support item assignment"
     ]
    }
   ],
   "source": [
    "#string immutability\n",
    "s=\"Shivam\"\n",
    "s[0]=\"N\"   \n",
    "\n",
    "#strings are immutable, which means you cannot change an individual character in a string using indexing\n",
    "s=\"N\"+s[1:]     #we can create a new variable with concatenation"
   ]
  },
  {
   "cell_type": "code",
   "execution_count": 44,
   "id": "f8794c65",
   "metadata": {},
   "outputs": [
    {
     "name": "stdout",
     "output_type": "stream",
     "text": [
      "2997176939840\n",
      "2997176939840\n"
     ]
    }
   ],
   "source": [
    "#Two string literals with the same content\n",
    "print(id(\"hello\"))  #memory location of \"hello\"\n",
    "print(id('hello'))  # memory location of 'hello'"
   ]
  },
  {
   "cell_type": "code",
   "execution_count": null,
   "id": "5075773c",
   "metadata": {},
   "outputs": [
    {
     "name": "stdout",
     "output_type": "stream",
     "text": [
      "id of a:2997205862608 id of b:2997205862608 \n",
      "True\n"
     ]
    }
   ],
   "source": [
    "#Two string variables assigned the same string literal\n",
    "a=\"Shivam\"\n",
    "b=\"Shivam\"\n",
    "print(f\"id of a:{id(a)} id of b:{id(b)} \") # memory location of 'a' and 'b'\n",
    "#id are same for both variables\n",
    "print(a is b)   #true,because both refer to the same object"
   ]
  },
  {
   "cell_type": "code",
   "execution_count": 47,
   "id": "49b2d8aa",
   "metadata": {},
   "outputs": [
    {
     "name": "stdout",
     "output_type": "stream",
     "text": [
      "id for x:140711929983600 \n",
      "id for y:140711929983600\n"
     ]
    }
   ],
   "source": [
    "#Two string variables created using string operations that result in the same content\n",
    "x = \"Py\" + \"thon\"\n",
    "y = \"Python\"\n",
    "print(f\"id for x:{id(x)} \\nid for y:{id(y)}\") ## Python optimize and intern the result of \"Py\" + \"thon\""
   ]
  },
  {
   "cell_type": "code",
   "execution_count": null,
   "id": "0d8cc90b",
   "metadata": {},
   "outputs": [
    {
     "name": "stdout",
     "output_type": "stream",
     "text": [
      "iamlearningpythonwithdsafromhybridcourseandifoundassingmentsarecrazy\n"
     ]
    }
   ],
   "source": [
    "a = [\"i\",\"am\",\"learning\",\"python\",\"with\",\"dsa\",\"from\",\"hybrid\",\"course\",\"and\",\"i\",\"found\",\"assingments\",\"are\",\"crazy\"]\n",
    "res=\"\".join(a)  #Use join() method to concatenate list elements\n",
    "print(res)"
   ]
  },
  {
   "cell_type": "code",
   "execution_count": 53,
   "id": "8a4596b6",
   "metadata": {},
   "outputs": [],
   "source": [
    "#Create a function that efficiently concatenates a large number of strings. Compare your approach with using the + operator in a loop.\n",
    "def concatenate_string(strings):\n",
    "    res=\"\"   \n",
    "    for i in strings:\n",
    "        res+=i\n",
    "    return res\n",
    "\n",
    "def concatenate_join(strings):\n",
    "    return ''.join(strings)"
   ]
  },
  {
   "cell_type": "code",
   "execution_count": 61,
   "id": "95821c5d",
   "metadata": {},
   "outputs": [
    {
     "name": "stdout",
     "output_type": "stream",
     "text": [
      "Time using + operator: 0.00197 seconds\n",
      "Time using join(): 0.00000 seconds\n"
     ]
    }
   ],
   "source": [
    "#comparison\n",
    "s=\"hello\"*1000   #creating a long string\n",
    "\n",
    "import time\n",
    "start_time = time.time()\n",
    "concatenate_string(s)\n",
    "time_taken = time.time() - start_time\n",
    "\n",
    "start_time=time.time()\n",
    "concatenate_join(s)\n",
    "join_time_taken=time.time()-start_time\n",
    "\n",
    "print(f\"Time using + operator: {time_taken:.5f} seconds\")\n",
    "print(f\"Time using join(): {join_time_taken:.5f} seconds\")"
   ]
  },
  {
   "cell_type": "raw",
   "id": "5de2b221",
   "metadata": {
    "vscode": {
     "languageId": "raw"
    }
   },
   "source": [
    "Section 4: String Methods (Intermediate)\n",
    "1. Given the string s = \" Python is Amazing! \":\n",
    "o Remove leading and trailing whitespace\n",
    "o Convert to all uppercase\n",
    "o Convert to all lowercase\n",
    "o Replace \"Amazing\" with \"Awesome\"\n",
    "2. Write a function that counts the occurrences of each character in a string and returns a\n",
    "dictionary with the results.\n",
    "3. Create a function that checks if a string is a palindrome (reads the same backward as\n",
    "forward), ignoring case, spaces, and punctuation.\n",
    "4. Given s = \"python,java,c++,javascript,ruby\":\n",
    "o Split the string into a list of programming languages\n",
    "o Join the list with a different separator (e.g., \" | \")"
   ]
  },
  {
   "cell_type": "code",
   "execution_count": null,
   "id": "60038e8f",
   "metadata": {},
   "outputs": [
    {
     "name": "stdout",
     "output_type": "stream",
     "text": [
      "Python is Amazing!\n",
      "Python is Amazing! \n",
      " Python is Amazing!\n",
      "convert all to upper case  PYTHON IS AMAZING! \n",
      "convert all to lower case  python is amazing! \n",
      " Python is Awesome! \n"
     ]
    }
   ],
   "source": [
    "s = \" Python is Amazing! \"\n",
    "print(s.strip()) #This method removes both leading and trailing whitespace from a string\n",
    "print(s.lstrip()) #This method removes only leading whitespace from a string\n",
    "print(s.rstrip()) #This method removes only trailing whitespace from a string\n",
    "\n",
    "print(\"convert all to upper case\",s.upper())  #This method convert complete string in upper case\n",
    "print(\"convert all to lower case\",s.lower())  #This method convert complete string in lower case\n",
    "\n",
    "print(s.replace(\"Amazing\",\"Awesome\"))  #Replace \"Amazing\" with \"Awesome\""
   ]
  },
  {
   "cell_type": "code",
   "execution_count": 86,
   "id": "2a891143",
   "metadata": {},
   "outputs": [
    {
     "name": "stdout",
     "output_type": "stream",
     "text": [
      "{'P': 1, 'Y': 1, 'T': 1, 'H': 1, 'O': 1, 'N': 2, ' ': 2, 'I': 2, 'S': 1, 'A': 2, 'M': 1, 'Z': 1, 'G': 1, '!': 1}\n"
     ]
    }
   ],
   "source": [
    "#Write a function that counts the occurrences of each character in a string and returns a dictionary with the results.\n",
    "def count_occuerence(s):\n",
    "    dict={}\n",
    "    for i in s:\n",
    "        res=s.count(i)\n",
    "        dict[i]=res\n",
    "    print(dict)\n",
    "\n",
    "count_occuerence(\"PYTHON IS AMAZING!\")"
   ]
  },
  {
   "cell_type": "code",
   "execution_count": 98,
   "id": "79a9c03b",
   "metadata": {},
   "outputs": [
    {
     "name": "stdout",
     "output_type": "stream",
     "text": [
      "eye is palindrome\n",
      "light is not palindrome\n"
     ]
    }
   ],
   "source": [
    "#Create a function that checks if a string is a palindrome (reads the same backward as forward), ignoring case, spaces, and punctuation.\n",
    "def palindrome(string):\n",
    "    if string==string[-1::-1]:\n",
    "        return f\"{string} is palindrome\"\n",
    "    else:\n",
    "        return f\"{string} is not palindrome\"\n",
    "   \n",
    "print(palindrome(\"eye\"))\n",
    "print(palindrome(\"light\"))"
   ]
  },
  {
   "cell_type": "code",
   "execution_count": 105,
   "id": "e6fda166",
   "metadata": {},
   "outputs": [
    {
     "name": "stdout",
     "output_type": "stream",
     "text": [
      "['python', 'java', 'c++', 'javascript', 'ruby']\n",
      "python|java|c++|javascript|ruby\n"
     ]
    }
   ],
   "source": [
    "s = \"python,java,c++,javascript,ruby\"\n",
    "split_list=s.split(',')\n",
    "join_lang=\"|\".join(split_list)\n",
    "print(split_list)\n",
    "print(join_lang)"
   ]
  },
  {
   "cell_type": "raw",
   "id": "5d52b1fe",
   "metadata": {
    "vscode": {
     "languageId": "raw"
    }
   },
   "source": [
    "Section 5: Escape Sequences & Raw Strings (Intermediate)\n",
    "1. Create a string that includes tab characters, newlines, and quotes using escape sequences.\n",
    "2. Explain when you would use raw strings in Python and provide an example with file\n",
    "paths.\n",
    "3. Create a function that formats a multi-line address with proper newlines and indentation\n",
    "using escape sequences.\n",
    "4. Write a program that takes a Windows file path (with backslashes) as input and correctly\n",
    "processes it using raw strings."
   ]
  },
  {
   "cell_type": "code",
   "execution_count": 112,
   "id": "35620c1f",
   "metadata": {},
   "outputs": [
    {
     "name": "stdout",
     "output_type": "stream",
     "text": [
      "Name:\t\"Shivam\"\n",
      "Age:\t21\n",
      "City:\t\"Rohtak\"\n"
     ]
    }
   ],
   "source": [
    "text = \"Name:\\t\\\"Shivam\\\"\\nAge:\\t21\\nCity:\\t\\\"Rohtak\\\"\"\n",
    "print(text)"
   ]
  },
  {
   "cell_type": "code",
   "execution_count": 113,
   "id": "0364448f",
   "metadata": {},
   "outputs": [
    {
     "name": "stdout",
     "output_type": "stream",
     "text": [
      "C:\\Users\\Shivam\\Documents\\file.txt\n"
     ]
    }
   ],
   "source": [
    "file_path = r\"C:\\Users\\Shivam\\Documents\\file.txt\"\n",
    "print(file_path)"
   ]
  },
  {
   "cell_type": "code",
   "execution_count": 114,
   "id": "da8960b2",
   "metadata": {},
   "outputs": [
    {
     "name": "stdout",
     "output_type": "stream",
     "text": [
      "Shivam Sharma\n",
      "\t123 Data Street\n",
      "\tDelhi - 110001\n"
     ]
    }
   ],
   "source": [
    "def format_address(name, street, city, pin):\n",
    "    address = f\"{name}\\n\\t{street}\\n\\t{city} - {pin}\"\n",
    "    return address\n",
    "\n",
    "print(format_address(\"Shivam Sharma\", \"123 Data Street\", \"Delhi\", \"110001\"))\n"
   ]
  },
  {
   "cell_type": "code",
   "execution_count": 115,
   "id": "b1de7b3d",
   "metadata": {},
   "outputs": [
    {
     "name": "stdout",
     "output_type": "stream",
     "text": [
      "Processed Path: C:\\Users\\Shivam\\Desktop\\project\\data.csv\n"
     ]
    }
   ],
   "source": [
    "def process_path():\n",
    "    user_input = input(\"Enter Windows file path: \")\n",
    "    raw_path = r\"{}\".format(user_input)\n",
    "    print(\"Processed Path:\", raw_path)\n",
    "\n",
    "process_path()"
   ]
  },
  {
   "cell_type": "raw",
   "id": "12e8af20",
   "metadata": {
    "vscode": {
     "languageId": "raw"
    }
   },
   "source": [
    "Section 6: Unicode & Multiline Strings (Intermediate to\n",
    "Advanced)\n",
    "1. Create strings containing characters from at least three different writing systems (e.g.,\n",
    "Latin, Cyrillic, Arabic, CJK).\n",
    "2. Write a function that counts the number of characters in a Unicode string, taking into\n",
    "account combining characters and surrogate pairs.\n",
    "3. Create a multi-line string containing a short poem or quote with proper formatting.\n",
    "4. Create a function that takes a multi-line string and returns the line with the most\n",
    "characters"
   ]
  },
  {
   "cell_type": "code",
   "execution_count": 116,
   "id": "307937e5",
   "metadata": {},
   "outputs": [
    {
     "name": "stdout",
     "output_type": "stream",
     "text": [
      "Hello Привет مرحبا こんにちは\n"
     ]
    }
   ],
   "source": [
    "latin = \"Hello\"                # Latin \n",
    "cyrillic = \"Привет\"            # Cyrillic\n",
    "arabic = \"مرحبا\"               # Arabic\n",
    "cjk = \"こんにちは\"              # CJK\n",
    "\n",
    "print(latin, cyrillic, arabic, cjk)\n"
   ]
  },
  {
   "cell_type": "code",
   "execution_count": 117,
   "id": "6d1f3a0f",
   "metadata": {},
   "outputs": [
    {
     "data": {
      "text/plain": [
       "4"
      ]
     },
     "execution_count": 117,
     "metadata": {},
     "output_type": "execute_result"
    }
   ],
   "source": [
    "import regex\n",
    "\n",
    "def unicode_length(s):\n",
    "    #a base + combining marks or emoji sequence\n",
    "    # \\X matches one grapheme cluster \n",
    "    graphemes = regex.findall(r'\\X', s)\n",
    "    return len(graphemes)\n",
    "\n",
    "unicode_length(\"a̐éö̲👨‍👩‍👧‍👦\")"
   ]
  },
  {
   "cell_type": "code",
   "execution_count": 123,
   "id": "d41d4b8e",
   "metadata": {},
   "outputs": [
    {
     "name": "stdout",
     "output_type": "stream",
     "text": [
      "\"The Dream Weaver\"\n",
      "\n",
      "    In realms unseen, where shadows play,\n",
      "The dream weaver, night and day,\n",
      "With brush of silk and threads of light,\n",
      "Creates a world, both dark and bright.\n",
      "Through slumber deep, the mind takes flight,\n",
      "To landscapes strange, in starry night,\n",
      "    Where whispered secrets softly bloom,\n",
      "    And banish every earthly gloom. \n",
      "\n"
     ]
    }
   ],
   "source": [
    "poem = \"\"\"\\\n",
    "\"The Dream Weaver\"\n",
    "\n",
    "    In realms unseen, where shadows play,\n",
    "The dream weaver, night and day,\n",
    "With brush of silk and threads of light,\n",
    "Creates a world, both dark and bright.\n",
    "Through slumber deep, the mind takes flight,\n",
    "To landscapes strange, in starry night,\n",
    "    Where whispered secrets softly bloom,\n",
    "    And banish every earthly gloom. \n",
    "\"\"\"\n",
    "print(poem)\n"
   ]
  },
  {
   "cell_type": "code",
   "execution_count": 124,
   "id": "831fe96e",
   "metadata": {},
   "outputs": [],
   "source": [
    "def  multi_line_String(text):\n",
    "    lines=text.splitlines()\n",
    "    return max(lines,key=len)"
   ]
  },
  {
   "cell_type": "code",
   "execution_count": 126,
   "id": "59224201",
   "metadata": {},
   "outputs": [
    {
     "data": {
      "text/plain": [
       "'Data science is fascinating.'"
      ]
     },
     "execution_count": 126,
     "metadata": {},
     "output_type": "execute_result"
    }
   ],
   "source": [
    "text=\"\"\"Python is powerful.\n",
    "Data science is fascinating.\n",
    "AI will shape the future.\"\"\"\n",
    "multi_line_String(text)"
   ]
  },
  {
   "cell_type": "raw",
   "id": "82614cc1",
   "metadata": {
    "vscode": {
     "languageId": "raw"
    }
   },
   "source": [
    "Section 7: String Formatting (Advanced)\n",
    "1. Format the same data using all three main formatting methods (f-strings, .format(), and\n",
    "% formatting):\n",
    "o Format a floating-point number to two decimal places\n",
    "o Format an integer with leading zeros\n",
    "o Format a string with fixed width and alignment\n",
    "2. Given a dictionary with student information (name, ID, grades), create formatted output\n",
    "using all three formatting methods.\n",
    "3. Create a function that generates a table of data with proper alignment using f-strings.\n",
    "4. Write a program that formats dates and times in different regional formats using string\n",
    "formatting."
   ]
  },
  {
   "cell_type": "code",
   "execution_count": null,
   "id": "c7122b11",
   "metadata": {},
   "outputs": [
    {
     "name": "stdout",
     "output_type": "stream",
     "text": [
      "Float: 3.14\n",
      "Integer: 00012\n",
      "Name: Shivam    \n",
      "Float: 3.14\n",
      "Integer: 00012\n",
      "Name: Shivam    \n",
      "Float: 3.14\n",
      "Integer: 00012\n",
      "Name: Shivam    \n"
     ]
    }
   ],
   "source": [
    "#Format the same data using all three main formatting methods (f-strings, .format(), and % formatting)\n",
    "pi = 3.14159265  #float\n",
    "roll_no = 12     #int\n",
    "name = \"Shivam\"  #string\n",
    "\n",
    "#f' Format\n",
    "print(f\"Float: {pi:.2f}\")             # Format a floating-point number to two decimal places\n",
    "print(f\"Integer: {roll_no:05}\")       # Format an integer with leading zeros\n",
    "print(f\"Name: {name:<10}\")            # Format a string with fixed width and alignment\n",
    "\n",
    "#.format\n",
    "print(\"Float: {:.2f}\".format(pi))\n",
    "print(\"Integer: {:05}\".format(roll_no))\n",
    "print(\"Name: {:<10}\".format(name))\n",
    "\n",
    "# % format\n",
    "print(\"Float: %.2f\" % pi)\n",
    "print(\"Integer: %05d\" % roll_no)\n",
    "print(\"Name: %-10s\" % name)\n"
   ]
  },
  {
   "cell_type": "code",
   "execution_count": null,
   "id": "00d05b83",
   "metadata": {},
   "outputs": [
    {
     "name": "stdout",
     "output_type": "stream",
     "text": [
      "Name: Shivam, ID: 123, Grade: 87.6\n",
      "Name: Shivam, ID: 123, Grade: 87.6\n",
      "Name: Shivam, ID: 123, Grade: 87.6\n"
     ]
    }
   ],
   "source": [
    "#Given a dictionary with student information (name, ID, grades), create formatted output using all three formatting methods.\n",
    "student = {\n",
    "    \"name\": \"Shivam\",\n",
    "    \"id\": 123,\n",
    "    \"grade\": 87.567\n",
    "}\n",
    "\n",
    "print(f\"Name: {student['name']}, ID: {student['id']:03}, Grade: {student['grade']:.1f}\")\n",
    "print(\"Name: {name}, ID: {id:03}, Grade: {grade:.1f}\".format(**student))\n",
    "print(\"Name: %s, ID: %03d, Grade: %.1f\" % (student[\"name\"], student[\"id\"], student[\"grade\"]))"
   ]
  },
  {
   "cell_type": "code",
   "execution_count": 134,
   "id": "da645d8f",
   "metadata": {},
   "outputs": [
    {
     "name": "stdout",
     "output_type": "stream",
     "text": [
      "Name       Age City        \n",
      "------------------------------\n",
      "Sivm        12 Hr12        \n",
      "Dev         14 Mumbai      \n",
      "Shivam       6 Rohtak      \n"
     ]
    }
   ],
   "source": [
    "\n",
    "#Create a function that generates a table of data with proper alignment using f-strings.\n",
    "def print_table(data):\n",
    "    print(f\"{'Name':<10} {'Age':>3} {'City':<12}\")\n",
    "    print(\"-\" * 30)\n",
    "    for name, age, city in data:\n",
    "        print(f\"{name:<10} {age:>3} {city:<12}\")\n",
    "\n",
    "\n",
    "rows = [\n",
    "    (\"Sivm\", 12, \"Hr12\"),\n",
    "    (\"Dev\", 14, \"Mumbai\"),\n",
    "    (\"Shivam\", 6, \"Rohtak\")\n",
    "]\n",
    "\n",
    "print_table(rows)\n"
   ]
  },
  {
   "cell_type": "code",
   "execution_count": 135,
   "id": "d71fdd64",
   "metadata": {},
   "outputs": [
    {
     "name": "stdout",
     "output_type": "stream",
     "text": [
      "ISO Format: 2025-05-10\n",
      "Indian Format: 10/05/2025\n",
      "US Format: 05-10-2025\n"
     ]
    }
   ],
   "source": [
    "#Write a program that formats dates and times in different regional formats using string formatting.\n",
    "from datetime import datetime\n",
    "\n",
    "now = datetime.now()  # Get current date and time\n",
    "\n",
    "# ISO Format \n",
    "print(f\"ISO Format: {now:%Y-%m-%d}\")\n",
    "\n",
    "#Indian Format \n",
    "print(f\"Indian Format: {now:%d/%m/%Y}\")\n",
    "\n",
    "# US Format \n",
    "print(f\"US Format: {now:%m-%d-%Y}\")\n",
    "\n"
   ]
  },
  {
   "cell_type": "code",
   "execution_count": null,
   "id": "71edc02e",
   "metadata": {},
   "outputs": [],
   "source": []
  }
 ],
 "metadata": {
  "kernelspec": {
   "display_name": "base",
   "language": "python",
   "name": "python3"
  },
  "language_info": {
   "codemirror_mode": {
    "name": "ipython",
    "version": 3
   },
   "file_extension": ".py",
   "mimetype": "text/x-python",
   "name": "python",
   "nbconvert_exporter": "python",
   "pygments_lexer": "ipython3",
   "version": "3.12.7"
  }
 },
 "nbformat": 4,
 "nbformat_minor": 5
}
