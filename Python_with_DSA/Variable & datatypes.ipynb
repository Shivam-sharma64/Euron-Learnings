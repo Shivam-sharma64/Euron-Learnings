{
 "cells": [
  {
   "cell_type": "code",
   "execution_count": 32,
   "id": "7b65a705",
   "metadata": {},
   "outputs": [
    {
     "data": {
      "text/plain": [
       "2"
      ]
     },
     "execution_count": 32,
     "metadata": {},
     "output_type": "execute_result"
    }
   ],
   "source": [
    "1+1"
   ]
  },
  {
   "cell_type": "code",
   "execution_count": 33,
   "id": "a96e22df",
   "metadata": {},
   "outputs": [
    {
     "data": {
      "text/plain": [
       "2"
      ]
     },
     "execution_count": 33,
     "metadata": {},
     "output_type": "execute_result"
    }
   ],
   "source": [
    "a=1\n",
    "b=1\n",
    "a+b"
   ]
  },
  {
   "cell_type": "code",
   "execution_count": 34,
   "id": "4a0a9cac",
   "metadata": {},
   "outputs": [],
   "source": [
    "a=1"
   ]
  },
  {
   "cell_type": "code",
   "execution_count": 35,
   "id": "983ba25c",
   "metadata": {},
   "outputs": [],
   "source": [
    "a=12\n",
    "b=12.23\n",
    "c=\"shivam\"\n",
    "d=12+34j"
   ]
  },
  {
   "cell_type": "code",
   "execution_count": 36,
   "id": "9287ad16",
   "metadata": {},
   "outputs": [
    {
     "data": {
      "text/plain": [
       "int"
      ]
     },
     "execution_count": 36,
     "metadata": {},
     "output_type": "execute_result"
    }
   ],
   "source": [
    "type(a)"
   ]
  },
  {
   "cell_type": "code",
   "execution_count": 37,
   "id": "deb0aa95",
   "metadata": {},
   "outputs": [
    {
     "data": {
      "text/plain": [
       "float"
      ]
     },
     "execution_count": 37,
     "metadata": {},
     "output_type": "execute_result"
    }
   ],
   "source": [
    "type(b)"
   ]
  },
  {
   "cell_type": "code",
   "execution_count": 38,
   "id": "cd36e66e",
   "metadata": {},
   "outputs": [
    {
     "data": {
      "text/plain": [
       "str"
      ]
     },
     "execution_count": 38,
     "metadata": {},
     "output_type": "execute_result"
    }
   ],
   "source": [
    "type(c)"
   ]
  },
  {
   "cell_type": "code",
   "execution_count": 39,
   "id": "dfb7a841",
   "metadata": {},
   "outputs": [
    {
     "data": {
      "text/plain": [
       "complex"
      ]
     },
     "execution_count": 39,
     "metadata": {},
     "output_type": "execute_result"
    }
   ],
   "source": [
    "type(d)"
   ]
  },
  {
   "cell_type": "code",
   "execution_count": 40,
   "id": "31072b60",
   "metadata": {},
   "outputs": [
    {
     "data": {
      "text/plain": [
       "140711672163096"
      ]
     },
     "execution_count": 40,
     "metadata": {},
     "output_type": "execute_result"
    }
   ],
   "source": [
    "id(a)"
   ]
  },
  {
   "cell_type": "code",
   "execution_count": 41,
   "id": "e8af9e67",
   "metadata": {},
   "outputs": [
    {
     "data": {
      "text/plain": [
       "2088584491184"
      ]
     },
     "execution_count": 41,
     "metadata": {},
     "output_type": "execute_result"
    }
   ],
   "source": [
    "id(b)"
   ]
  },
  {
   "cell_type": "code",
   "execution_count": 42,
   "id": "14de2f49",
   "metadata": {},
   "outputs": [],
   "source": [
    "b=\"shivam\""
   ]
  },
  {
   "cell_type": "code",
   "execution_count": 43,
   "id": "d910e458",
   "metadata": {},
   "outputs": [],
   "source": [
    "c='my name is shivam'"
   ]
  },
  {
   "cell_type": "code",
   "execution_count": 44,
   "id": "3c4cad01",
   "metadata": {},
   "outputs": [
    {
     "data": {
      "text/plain": [
       "str"
      ]
     },
     "execution_count": 44,
     "metadata": {},
     "output_type": "execute_result"
    }
   ],
   "source": [
    "type(b)"
   ]
  },
  {
   "cell_type": "code",
   "execution_count": 45,
   "id": "b2679792",
   "metadata": {},
   "outputs": [
    {
     "data": {
      "text/plain": [
       "str"
      ]
     },
     "execution_count": 45,
     "metadata": {},
     "output_type": "execute_result"
    }
   ],
   "source": [
    "type(c)"
   ]
  },
  {
   "cell_type": "code",
   "execution_count": 46,
   "id": "0505948e",
   "metadata": {},
   "outputs": [],
   "source": [
    "g=True"
   ]
  },
  {
   "cell_type": "code",
   "execution_count": 47,
   "id": "5cab778e",
   "metadata": {},
   "outputs": [],
   "source": [
    "h=False"
   ]
  },
  {
   "cell_type": "code",
   "execution_count": 48,
   "id": "1720477b",
   "metadata": {},
   "outputs": [
    {
     "data": {
      "text/plain": [
       "bool"
      ]
     },
     "execution_count": 48,
     "metadata": {},
     "output_type": "execute_result"
    }
   ],
   "source": [
    "type(g)"
   ]
  },
  {
   "cell_type": "code",
   "execution_count": 49,
   "id": "48071e5e",
   "metadata": {},
   "outputs": [
    {
     "data": {
      "text/plain": [
       "bool"
      ]
     },
     "execution_count": 49,
     "metadata": {},
     "output_type": "execute_result"
    }
   ],
   "source": [
    "type(h)"
   ]
  },
  {
   "cell_type": "code",
   "execution_count": 51,
   "id": "10de384f",
   "metadata": {},
   "outputs": [
    {
     "data": {
      "text/plain": [
       "2"
      ]
     },
     "execution_count": 51,
     "metadata": {},
     "output_type": "execute_result"
    }
   ],
   "source": [
    "True+True"
   ]
  },
  {
   "cell_type": "code",
   "execution_count": 52,
   "id": "1d532931",
   "metadata": {},
   "outputs": [
    {
     "data": {
      "text/plain": [
       "0"
      ]
     },
     "execution_count": 52,
     "metadata": {},
     "output_type": "execute_result"
    }
   ],
   "source": [
    "False+False"
   ]
  },
  {
   "cell_type": "code",
   "execution_count": 53,
   "id": "cf70a3e8",
   "metadata": {},
   "outputs": [
    {
     "data": {
      "text/plain": [
       "10"
      ]
     },
     "execution_count": 53,
     "metadata": {},
     "output_type": "execute_result"
    }
   ],
   "source": [
    "True*10"
   ]
  },
  {
   "cell_type": "code",
   "execution_count": 54,
   "id": "2d70880f",
   "metadata": {},
   "outputs": [
    {
     "ename": "ZeroDivisionError",
     "evalue": "division by zero",
     "output_type": "error",
     "traceback": [
      "\u001b[1;31m---------------------------------------------------------------------------\u001b[0m",
      "\u001b[1;31mZeroDivisionError\u001b[0m                         Traceback (most recent call last)",
      "Cell \u001b[1;32mIn[54], line 1\u001b[0m\n\u001b[1;32m----> 1\u001b[0m \u001b[38;5;28;01mTrue\u001b[39;00m\u001b[38;5;241m/\u001b[39m\u001b[38;5;28;01mFalse\u001b[39;00m\n",
      "\u001b[1;31mZeroDivisionError\u001b[0m: division by zero"
     ]
    }
   ],
   "source": [
    "True/False"
   ]
  },
  {
   "cell_type": "code",
   "execution_count": 55,
   "id": "ced00c80",
   "metadata": {},
   "outputs": [],
   "source": [
    "c=4+6j"
   ]
  },
  {
   "cell_type": "code",
   "execution_count": 56,
   "id": "f007c62d",
   "metadata": {},
   "outputs": [
    {
     "data": {
      "text/plain": [
       "complex"
      ]
     },
     "execution_count": 56,
     "metadata": {},
     "output_type": "execute_result"
    }
   ],
   "source": [
    "type(c)"
   ]
  },
  {
   "cell_type": "code",
   "execution_count": 57,
   "id": "4fc1268e",
   "metadata": {},
   "outputs": [
    {
     "data": {
      "text/plain": [
       "6.0"
      ]
     },
     "execution_count": 57,
     "metadata": {},
     "output_type": "execute_result"
    }
   ],
   "source": [
    "c.imag"
   ]
  },
  {
   "cell_type": "code",
   "execution_count": 58,
   "id": "a7b68585",
   "metadata": {},
   "outputs": [
    {
     "data": {
      "text/plain": [
       "4.0"
      ]
     },
     "execution_count": 58,
     "metadata": {},
     "output_type": "execute_result"
    }
   ],
   "source": [
    "c.real\n"
   ]
  },
  {
   "cell_type": "code",
   "execution_count": 59,
   "id": "1a8ceaa3",
   "metadata": {},
   "outputs": [],
   "source": [
    "d=None"
   ]
  },
  {
   "cell_type": "code",
   "execution_count": 60,
   "id": "fcdf9320",
   "metadata": {},
   "outputs": [
    {
     "data": {
      "text/plain": [
       "NoneType"
      ]
     },
     "execution_count": 60,
     "metadata": {},
     "output_type": "execute_result"
    }
   ],
   "source": [
    "type(d)"
   ]
  },
  {
   "cell_type": "code",
   "execution_count": 61,
   "id": "a54b4c54",
   "metadata": {},
   "outputs": [
    {
     "data": {
      "text/plain": [
       "False"
      ]
     },
     "execution_count": 61,
     "metadata": {},
     "output_type": "execute_result"
    }
   ],
   "source": [
    "None == 0"
   ]
  },
  {
   "cell_type": "code",
   "execution_count": 62,
   "id": "db02f5a8",
   "metadata": {},
   "outputs": [
    {
     "data": {
      "text/plain": [
       "False"
      ]
     },
     "execution_count": 62,
     "metadata": {},
     "output_type": "execute_result"
    }
   ],
   "source": [
    "None == False"
   ]
  },
  {
   "cell_type": "code",
   "execution_count": 63,
   "id": "8ed1553b",
   "metadata": {},
   "outputs": [
    {
     "data": {
      "text/plain": [
       "2088585838144"
      ]
     },
     "execution_count": 63,
     "metadata": {},
     "output_type": "execute_result"
    }
   ],
   "source": [
    "id(b)"
   ]
  },
  {
   "cell_type": "code",
   "execution_count": 64,
   "id": "f801a60d",
   "metadata": {},
   "outputs": [],
   "source": [
    "MAX=5000"
   ]
  },
  {
   "cell_type": "code",
   "execution_count": 65,
   "id": "c5fdd495",
   "metadata": {},
   "outputs": [],
   "source": [
    "first_name=\"Shivam\"\n",
    "last_name=\"Sharma\""
   ]
  },
  {
   "cell_type": "code",
   "execution_count": 66,
   "id": "2eb6c11a",
   "metadata": {},
   "outputs": [
    {
     "data": {
      "text/plain": [
       "'Shivam'"
      ]
     },
     "execution_count": 66,
     "metadata": {},
     "output_type": "execute_result"
    }
   ],
   "source": [
    "first_name\n"
   ]
  },
  {
   "cell_type": "code",
   "execution_count": 67,
   "id": "93ab8656",
   "metadata": {},
   "outputs": [
    {
     "data": {
      "text/plain": [
       "'Sharma'"
      ]
     },
     "execution_count": 67,
     "metadata": {},
     "output_type": "execute_result"
    }
   ],
   "source": [
    "last_name\n"
   ]
  },
  {
   "cell_type": "code",
   "execution_count": null,
   "id": "b17fa337",
   "metadata": {},
   "outputs": [],
   "source": [
    "print_fist_name()"
   ]
  },
  {
   "cell_type": "code",
   "execution_count": null,
   "id": "fe5f61f3",
   "metadata": {},
   "outputs": [],
   "source": [
    "print.name()"
   ]
  },
  {
   "cell_type": "code",
   "execution_count": 68,
   "id": "c1e98446",
   "metadata": {},
   "outputs": [],
   "source": [
    "a='45'"
   ]
  },
  {
   "cell_type": "code",
   "execution_count": 69,
   "id": "48394645",
   "metadata": {},
   "outputs": [
    {
     "data": {
      "text/plain": [
       "str"
      ]
     },
     "execution_count": 69,
     "metadata": {},
     "output_type": "execute_result"
    }
   ],
   "source": [
    "type(a)"
   ]
  },
  {
   "cell_type": "code",
   "execution_count": 70,
   "id": "971e3ee1",
   "metadata": {},
   "outputs": [
    {
     "data": {
      "text/plain": [
       "45"
      ]
     },
     "execution_count": 70,
     "metadata": {},
     "output_type": "execute_result"
    }
   ],
   "source": [
    "int(a)"
   ]
  },
  {
   "cell_type": "code",
   "execution_count": 71,
   "id": "62d0be58",
   "metadata": {},
   "outputs": [
    {
     "data": {
      "text/plain": [
       "45.0"
      ]
     },
     "execution_count": 71,
     "metadata": {},
     "output_type": "execute_result"
    }
   ],
   "source": [
    "float(a)"
   ]
  },
  {
   "cell_type": "code",
   "execution_count": 72,
   "id": "95621576",
   "metadata": {},
   "outputs": [],
   "source": [
    "b=\"Shivam\""
   ]
  },
  {
   "cell_type": "code",
   "execution_count": 73,
   "id": "b0e4533e",
   "metadata": {},
   "outputs": [
    {
     "ename": "ValueError",
     "evalue": "invalid literal for int() with base 10: 'Shivam'",
     "output_type": "error",
     "traceback": [
      "\u001b[1;31m---------------------------------------------------------------------------\u001b[0m",
      "\u001b[1;31mValueError\u001b[0m                                Traceback (most recent call last)",
      "Cell \u001b[1;32mIn[73], line 1\u001b[0m\n\u001b[1;32m----> 1\u001b[0m \u001b[38;5;28mint\u001b[39m(b)\n",
      "\u001b[1;31mValueError\u001b[0m: invalid literal for int() with base 10: 'Shivam'"
     ]
    }
   ],
   "source": [
    "int(b)"
   ]
  },
  {
   "cell_type": "code",
   "execution_count": 74,
   "id": "e981e69b",
   "metadata": {},
   "outputs": [
    {
     "data": {
      "text/plain": [
       "'45'"
      ]
     },
     "execution_count": 74,
     "metadata": {},
     "output_type": "execute_result"
    }
   ],
   "source": [
    "c=45\n",
    "str(c)"
   ]
  },
  {
   "cell_type": "code",
   "execution_count": 75,
   "id": "920101fc",
   "metadata": {},
   "outputs": [
    {
     "data": {
      "text/plain": [
       "45.0"
      ]
     },
     "execution_count": 75,
     "metadata": {},
     "output_type": "execute_result"
    }
   ],
   "source": [
    "float(c)"
   ]
  },
  {
   "cell_type": "code",
   "execution_count": 76,
   "id": "52b337c2",
   "metadata": {},
   "outputs": [
    {
     "data": {
      "text/plain": [
       "int"
      ]
     },
     "execution_count": 76,
     "metadata": {},
     "output_type": "execute_result"
    }
   ],
   "source": [
    "type(c)"
   ]
  },
  {
   "cell_type": "code",
   "execution_count": 80,
   "id": "44d0d66d",
   "metadata": {},
   "outputs": [],
   "source": [
    "c='True'"
   ]
  },
  {
   "cell_type": "code",
   "execution_count": 81,
   "id": "55f5410c",
   "metadata": {},
   "outputs": [
    {
     "data": {
      "text/plain": [
       "str"
      ]
     },
     "execution_count": 81,
     "metadata": {},
     "output_type": "execute_result"
    }
   ],
   "source": [
    "type(c)"
   ]
  },
  {
   "cell_type": "code",
   "execution_count": 79,
   "id": "f9cdca73",
   "metadata": {},
   "outputs": [
    {
     "data": {
      "text/plain": [
       "'True'"
      ]
     },
     "execution_count": 79,
     "metadata": {},
     "output_type": "execute_result"
    }
   ],
   "source": [
    "str(c)"
   ]
  },
  {
   "cell_type": "code",
   "execution_count": 82,
   "id": "d46b236f",
   "metadata": {},
   "outputs": [
    {
     "data": {
      "text/plain": [
       "True"
      ]
     },
     "execution_count": 82,
     "metadata": {},
     "output_type": "execute_result"
    }
   ],
   "source": [
    "bool(c)"
   ]
  },
  {
   "cell_type": "code",
   "execution_count": 83,
   "id": "a8e656c6",
   "metadata": {},
   "outputs": [
    {
     "data": {
      "text/plain": [
       "57.34"
      ]
     },
     "execution_count": 83,
     "metadata": {},
     "output_type": "execute_result"
    }
   ],
   "source": [
    "a=34\n",
    "b=23.34\n",
    "a+b"
   ]
  },
  {
   "cell_type": "code",
   "execution_count": 84,
   "id": "cb1df2bf",
   "metadata": {},
   "outputs": [
    {
     "data": {
      "text/plain": [
       "11"
      ]
     },
     "execution_count": 84,
     "metadata": {},
     "output_type": "execute_result"
    }
   ],
   "source": [
    "10+True"
   ]
  },
  {
   "cell_type": "code",
   "execution_count": 85,
   "id": "46f95cd3",
   "metadata": {},
   "outputs": [
    {
     "data": {
      "text/plain": [
       "0.30000000000000004"
      ]
     },
     "execution_count": 85,
     "metadata": {},
     "output_type": "execute_result"
    }
   ],
   "source": [
    "0.1+0.2"
   ]
  },
  {
   "cell_type": "code",
   "execution_count": 86,
   "id": "c4e70590",
   "metadata": {},
   "outputs": [
    {
     "data": {
      "text/plain": [
       "False"
      ]
     },
     "execution_count": 86,
     "metadata": {},
     "output_type": "execute_result"
    }
   ],
   "source": [
    "0.1+0.2==0.3"
   ]
  },
  {
   "cell_type": "code",
   "execution_count": 87,
   "id": "73ac1c58",
   "metadata": {},
   "outputs": [],
   "source": [
    "import math"
   ]
  },
  {
   "cell_type": "code",
   "execution_count": 88,
   "id": "4c9a4eac",
   "metadata": {},
   "outputs": [
    {
     "data": {
      "text/plain": [
       "3.141592653589793"
      ]
     },
     "execution_count": 88,
     "metadata": {},
     "output_type": "execute_result"
    }
   ],
   "source": [
    "math.pi"
   ]
  },
  {
   "cell_type": "code",
   "execution_count": 89,
   "id": "1fba51eb",
   "metadata": {},
   "outputs": [
    {
     "data": {
      "text/plain": [
       "2.718281828459045"
      ]
     },
     "execution_count": 89,
     "metadata": {},
     "output_type": "execute_result"
    }
   ],
   "source": [
    "math.e"
   ]
  },
  {
   "cell_type": "code",
   "execution_count": 92,
   "id": "f045902b",
   "metadata": {},
   "outputs": [
    {
     "data": {
      "text/plain": [
       "-3.380515006246586"
      ]
     },
     "execution_count": 92,
     "metadata": {},
     "output_type": "execute_result"
    }
   ],
   "source": [
    "math.tan(5)"
   ]
  },
  {
   "cell_type": "code",
   "execution_count": 93,
   "id": "68caad34",
   "metadata": {},
   "outputs": [
    {
     "data": {
      "text/plain": [
       "inf"
      ]
     },
     "execution_count": 93,
     "metadata": {},
     "output_type": "execute_result"
    }
   ],
   "source": [
    "math.inf"
   ]
  },
  {
   "cell_type": "code",
   "execution_count": 94,
   "id": "4e829316",
   "metadata": {},
   "outputs": [
    {
     "data": {
      "text/plain": [
       "nan"
      ]
     },
     "execution_count": 94,
     "metadata": {},
     "output_type": "execute_result"
    }
   ],
   "source": [
    "math.nan"
   ]
  },
  {
   "cell_type": "code",
   "execution_count": 95,
   "id": "dd39f8ee",
   "metadata": {},
   "outputs": [
    {
     "data": {
      "text/plain": [
       "2.0"
      ]
     },
     "execution_count": 95,
     "metadata": {},
     "output_type": "execute_result"
    }
   ],
   "source": [
    "math.sqrt(4)"
   ]
  },
  {
   "cell_type": "code",
   "execution_count": 96,
   "id": "cfe87970",
   "metadata": {},
   "outputs": [
    {
     "data": {
      "text/plain": [
       "2187.0"
      ]
     },
     "execution_count": 96,
     "metadata": {},
     "output_type": "execute_result"
    }
   ],
   "source": [
    "math.pow(3,7)"
   ]
  },
  {
   "cell_type": "code",
   "execution_count": 99,
   "id": "9c128120",
   "metadata": {},
   "outputs": [
    {
     "data": {
      "text/plain": [
       "0.5290826861200238"
      ]
     },
     "execution_count": 99,
     "metadata": {},
     "output_type": "execute_result"
    }
   ],
   "source": [
    "math.sin(34)"
   ]
  },
  {
   "cell_type": "code",
   "execution_count": 100,
   "id": "f37f4a6c",
   "metadata": {},
   "outputs": [
    {
     "data": {
      "text/plain": [
       "2.302585092994046"
      ]
     },
     "execution_count": 100,
     "metadata": {},
     "output_type": "execute_result"
    }
   ],
   "source": [
    "math.log(10)"
   ]
  },
  {
   "cell_type": "code",
   "execution_count": 101,
   "id": "ce49d968",
   "metadata": {},
   "outputs": [
    {
     "data": {
      "text/plain": [
       "24"
      ]
     },
     "execution_count": 101,
     "metadata": {},
     "output_type": "execute_result"
    }
   ],
   "source": [
    "math.factorial(4)"
   ]
  },
  {
   "cell_type": "code",
   "execution_count": null,
   "id": "3b33dba2",
   "metadata": {},
   "outputs": [],
   "source": []
  }
 ],
 "metadata": {
  "kernelspec": {
   "display_name": "base",
   "language": "python",
   "name": "python3"
  },
  "language_info": {
   "codemirror_mode": {
    "name": "ipython",
    "version": 3
   },
   "file_extension": ".py",
   "mimetype": "text/x-python",
   "name": "python",
   "nbconvert_exporter": "python",
   "pygments_lexer": "ipython3",
   "version": "3.12.7"
  }
 },
 "nbformat": 4,
 "nbformat_minor": 5
}
