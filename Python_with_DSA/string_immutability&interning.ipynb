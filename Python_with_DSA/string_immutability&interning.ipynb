{
 "cells": [
  {
   "cell_type": "code",
   "execution_count": 24,
   "id": "4631893d",
   "metadata": {},
   "outputs": [],
   "source": [
    "s=\"shivam\""
   ]
  },
  {
   "cell_type": "code",
   "execution_count": 25,
   "id": "b261ad5b",
   "metadata": {},
   "outputs": [
    {
     "data": {
      "text/plain": [
       "2103199502992"
      ]
     },
     "execution_count": 25,
     "metadata": {},
     "output_type": "execute_result"
    }
   ],
   "source": [
    "id(s)"
   ]
  },
  {
   "cell_type": "code",
   "execution_count": 26,
   "id": "b61818e9",
   "metadata": {},
   "outputs": [],
   "source": [
    "modify=s+\"sharma\""
   ]
  },
  {
   "cell_type": "code",
   "execution_count": 27,
   "id": "d89b2f46",
   "metadata": {},
   "outputs": [
    {
     "data": {
      "text/plain": [
       "2103214018672"
      ]
     },
     "execution_count": 27,
     "metadata": {},
     "output_type": "execute_result"
    }
   ],
   "source": [
    "id(modify)"
   ]
  },
  {
   "cell_type": "code",
   "execution_count": 35,
   "id": "359215df",
   "metadata": {},
   "outputs": [],
   "source": [
    "a=\"data nuggetz\""
   ]
  },
  {
   "cell_type": "code",
   "execution_count": 36,
   "id": "dea082e5",
   "metadata": {},
   "outputs": [
    {
     "data": {
      "text/plain": [
       "2103214343728"
      ]
     },
     "execution_count": 36,
     "metadata": {},
     "output_type": "execute_result"
    }
   ],
   "source": [
    "id(a)"
   ]
  },
  {
   "cell_type": "code",
   "execution_count": 33,
   "id": "124bfb53",
   "metadata": {},
   "outputs": [
    {
     "ename": "TypeError",
     "evalue": "'str' object does not support item assignment",
     "output_type": "error",
     "traceback": [
      "\u001b[1;31m---------------------------------------------------------------------------\u001b[0m",
      "\u001b[1;31mTypeError\u001b[0m                                 Traceback (most recent call last)",
      "Cell \u001b[1;32mIn[33], line 1\u001b[0m\n\u001b[1;32m----> 1\u001b[0m a[\u001b[38;5;241m0\u001b[39m]\u001b[38;5;241m=\u001b[39m\u001b[38;5;124m\"\u001b[39m\u001b[38;5;124md\u001b[39m\u001b[38;5;124m\"\u001b[39m\n",
      "\u001b[1;31mTypeError\u001b[0m: 'str' object does not support item assignment"
     ]
    }
   ],
   "source": [
    "a[0]=\"d\""
   ]
  },
  {
   "cell_type": "code",
   "execution_count": 37,
   "id": "9c4fe8f9",
   "metadata": {},
   "outputs": [],
   "source": [
    "a=\"sata nuggetz\""
   ]
  },
  {
   "cell_type": "code",
   "execution_count": 38,
   "id": "2d3b4f75",
   "metadata": {},
   "outputs": [
    {
     "data": {
      "text/plain": [
       "2103214234352"
      ]
     },
     "execution_count": 38,
     "metadata": {},
     "output_type": "execute_result"
    }
   ],
   "source": [
    "id(a)"
   ]
  },
  {
   "cell_type": "code",
   "execution_count": 43,
   "id": "ed135eb4",
   "metadata": {},
   "outputs": [],
   "source": [
    "a=\"data\""
   ]
  },
  {
   "cell_type": "code",
   "execution_count": 44,
   "id": "a373178c",
   "metadata": {},
   "outputs": [],
   "source": [
    "b=\"data\""
   ]
  },
  {
   "cell_type": "code",
   "execution_count": 45,
   "id": "559b6db5",
   "metadata": {},
   "outputs": [
    {
     "data": {
      "text/plain": [
       "140711541194280"
      ]
     },
     "execution_count": 45,
     "metadata": {},
     "output_type": "execute_result"
    }
   ],
   "source": [
    "id(a)"
   ]
  },
  {
   "cell_type": "code",
   "execution_count": 46,
   "id": "d2bb6323",
   "metadata": {},
   "outputs": [
    {
     "data": {
      "text/plain": [
       "140711541194280"
      ]
     },
     "execution_count": 46,
     "metadata": {},
     "output_type": "execute_result"
    }
   ],
   "source": [
    "id(b)"
   ]
  },
  {
   "cell_type": "code",
   "execution_count": 47,
   "id": "f08f3dbc",
   "metadata": {},
   "outputs": [],
   "source": [
    "c=\"shivam\"+\"sharma\""
   ]
  },
  {
   "cell_type": "code",
   "execution_count": 48,
   "id": "7c0f350e",
   "metadata": {},
   "outputs": [],
   "source": [
    "d=\"shivamsharma\""
   ]
  },
  {
   "cell_type": "code",
   "execution_count": 49,
   "id": "0a2933fc",
   "metadata": {},
   "outputs": [
    {
     "data": {
      "text/plain": [
       "'shivamsharma'"
      ]
     },
     "execution_count": 49,
     "metadata": {},
     "output_type": "execute_result"
    }
   ],
   "source": [
    "c"
   ]
  },
  {
   "cell_type": "code",
   "execution_count": 50,
   "id": "5a5dc296",
   "metadata": {},
   "outputs": [
    {
     "data": {
      "text/plain": [
       "'shivamsharma'"
      ]
     },
     "execution_count": 50,
     "metadata": {},
     "output_type": "execute_result"
    }
   ],
   "source": [
    "d"
   ]
  },
  {
   "cell_type": "code",
   "execution_count": 51,
   "id": "93a74fbe",
   "metadata": {},
   "outputs": [
    {
     "data": {
      "text/plain": [
       "2103199929328"
      ]
     },
     "execution_count": 51,
     "metadata": {},
     "output_type": "execute_result"
    }
   ],
   "source": [
    "id(c)"
   ]
  },
  {
   "cell_type": "code",
   "execution_count": 52,
   "id": "0735b26a",
   "metadata": {},
   "outputs": [
    {
     "data": {
      "text/plain": [
       "2103199929328"
      ]
     },
     "execution_count": 52,
     "metadata": {},
     "output_type": "execute_result"
    }
   ],
   "source": [
    "id(d)"
   ]
  },
  {
   "cell_type": "code",
   "execution_count": null,
   "id": "f0756826",
   "metadata": {},
   "outputs": [],
   "source": []
  }
 ],
 "metadata": {
  "kernelspec": {
   "display_name": "base",
   "language": "python",
   "name": "python3"
  },
  "language_info": {
   "codemirror_mode": {
    "name": "ipython",
    "version": 3
   },
   "file_extension": ".py",
   "mimetype": "text/x-python",
   "name": "python",
   "nbconvert_exporter": "python",
   "pygments_lexer": "ipython3",
   "version": "3.12.7"
  }
 },
 "nbformat": 4,
 "nbformat_minor": 5
}
