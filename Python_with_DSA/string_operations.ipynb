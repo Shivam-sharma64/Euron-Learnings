{
 "cells": [
  {
   "cell_type": "code",
   "execution_count": 5,
   "id": "a7d05151",
   "metadata": {},
   "outputs": [
    {
     "name": "stdout",
     "output_type": "stream",
     "text": [
      "my name is shivam \n",
      "i use to learn python \ti use to learn ds\n"
     ]
    }
   ],
   "source": [
    "print(\"my name is shivam \\ni use to learn python \\ti use to learn ds\")"
   ]
  },
  {
   "cell_type": "code",
   "execution_count": 6,
   "id": "b15bade7",
   "metadata": {},
   "outputs": [
    {
     "name": "stdout",
     "output_type": "stream",
     "text": [
      "\\\n"
     ]
    }
   ],
   "source": [
    "print(\"\\\\\")"
   ]
  },
  {
   "cell_type": "code",
   "execution_count": 9,
   "id": "cb9da788",
   "metadata": {},
   "outputs": [
    {
     "name": "stdout",
     "output_type": "stream",
     "text": [
      "C:\\ProgramData\\Microsoft\n"
     ]
    }
   ],
   "source": [
    "raw_data=\"C:\\\\ProgramData\\\\Microsoft\"\n",
    "print(raw_data)"
   ]
  },
  {
   "cell_type": "code",
   "execution_count": 10,
   "id": "c2524a24",
   "metadata": {},
   "outputs": [
    {
     "data": {
      "text/plain": [
       "'C:\\\\ProgramData\\\\Microsoft'"
      ]
     },
     "execution_count": 10,
     "metadata": {},
     "output_type": "execute_result"
    }
   ],
   "source": [
    "r\"C:\\ProgramData\\Microsoft\""
   ]
  },
  {
   "cell_type": "code",
   "execution_count": 11,
   "id": "79806b92",
   "metadata": {},
   "outputs": [],
   "source": [
    "#unicode"
   ]
  },
  {
   "cell_type": "code",
   "execution_count": 12,
   "id": "b1077fd4",
   "metadata": {},
   "outputs": [
    {
     "name": "stdout",
     "output_type": "stream",
     "text": [
      "😀\n"
     ]
    }
   ],
   "source": [
    "print(\"\\U0001F600\")"
   ]
  },
  {
   "cell_type": "code",
   "execution_count": 13,
   "id": "8a79932f",
   "metadata": {},
   "outputs": [
    {
     "name": "stdout",
     "output_type": "stream",
     "text": [
      "☃\n"
     ]
    }
   ],
   "source": [
    "print(\"\\N{SNOWMAN}\")"
   ]
  },
  {
   "cell_type": "code",
   "execution_count": 14,
   "id": "3df112f5",
   "metadata": {},
   "outputs": [
    {
     "name": "stdout",
     "output_type": "stream",
     "text": [
      "☺\n"
     ]
    }
   ],
   "source": [
    "print(\"\\u263A\")"
   ]
  },
  {
   "cell_type": "code",
   "execution_count": 15,
   "id": "ea7c0345",
   "metadata": {},
   "outputs": [
    {
     "data": {
      "text/plain": [
       "'my name is shivam\\ni use to learn python with dsa\\ni use to learn ds'"
      ]
     },
     "execution_count": 15,
     "metadata": {},
     "output_type": "execute_result"
    }
   ],
   "source": [
    "\"\"\"my name is shivam\n",
    "i use to learn python with dsa\n",
    "i use to learn ds\"\"\""
   ]
  },
  {
   "cell_type": "code",
   "execution_count": null,
   "id": "2855ed06",
   "metadata": {},
   "outputs": [
    {
     "data": {
      "text/plain": [
       "'my name is shivami use to learn python with dsai use to learn ds'"
      ]
     },
     "execution_count": 16,
     "metadata": {},
     "output_type": "execute_result"
    }
   ],
   "source": [
    "\"my name is shivam\"\\\n",
    "\"i use to learn python with dsa\"\\\n",
    "\"i use to learn ds\""
   ]
  },
  {
   "cell_type": "code",
   "execution_count": 17,
   "id": "85fe85f2",
   "metadata": {},
   "outputs": [
    {
     "name": "stdout",
     "output_type": "stream",
     "text": [
      "my name is  Shivam my age is  21 my phone number is  123456789\n"
     ]
    }
   ],
   "source": [
    "name=\"Shivam\"\n",
    "age=21\n",
    "phone=123456789\n",
    "print(\"my name is \",name,\"my age is \",age,\"my phone number is \",phone)"
   ]
  },
  {
   "cell_type": "code",
   "execution_count": 18,
   "id": "4e1e3ee4",
   "metadata": {},
   "outputs": [
    {
     "name": "stdout",
     "output_type": "stream",
     "text": [
      "my name is Shivam my age is 21 my phone number is 123456789\n"
     ]
    }
   ],
   "source": [
    "print(f\"my name is {name} my age is {age} my phone number is {phone}\")"
   ]
  },
  {
   "cell_type": "code",
   "execution_count": 20,
   "id": "1aae9e46",
   "metadata": {},
   "outputs": [
    {
     "name": "stdout",
     "output_type": "stream",
     "text": [
      "my name is 21 my age is Shivam my phone number is 123456789\n"
     ]
    }
   ],
   "source": [
    "print(\"my name is {} my age is {} my phone number is {}\".format(age,name,phone))"
   ]
  },
  {
   "cell_type": "code",
   "execution_count": 21,
   "id": "4994ab46",
   "metadata": {},
   "outputs": [
    {
     "name": "stdout",
     "output_type": "stream",
     "text": [
      "my name is Shivam my age is 21 my phone number is 123456789\n"
     ]
    }
   ],
   "source": [
    "print(\"my name is {a} my age is {b} my phone number is {number}\".format(a=name,b=age,number=phone))"
   ]
  },
  {
   "cell_type": "code",
   "execution_count": 22,
   "id": "7190cc8e",
   "metadata": {},
   "outputs": [],
   "source": [
    "from string import Template"
   ]
  },
  {
   "cell_type": "code",
   "execution_count": 24,
   "id": "9ace2eab",
   "metadata": {},
   "outputs": [
    {
     "data": {
      "text/plain": [
       "'my name is Shivam my age is 21 my number is 123456789'"
      ]
     },
     "execution_count": 24,
     "metadata": {},
     "output_type": "execute_result"
    }
   ],
   "source": [
    "Template(\"my name is $name my age is $age my number is $phone\").substitute(name=name,age=age,phone=phone)"
   ]
  },
  {
   "cell_type": "code",
   "execution_count": 26,
   "id": "1ab4f917",
   "metadata": {},
   "outputs": [],
   "source": [
    "email_template=Template(\"\"\"\n",
    "From : $sender\n",
    "To : $reciever\n",
    "    Subject : $subject\n",
    "        $body\n",
    "\"\"\")"
   ]
  },
  {
   "cell_type": "code",
   "execution_count": 30,
   "id": "903fc506",
   "metadata": {},
   "outputs": [
    {
     "data": {
      "text/plain": [
       "'\\nFrom : shivam\\nTo : shivam@gmail.com\\n    Subject : test mail\\n        this is my mail\\n'"
      ]
     },
     "execution_count": 30,
     "metadata": {},
     "output_type": "execute_result"
    }
   ],
   "source": [
    "email_template.substitute(sender=input(\"enter sender name\"),reciever=input(\"enter reciever\"),subject=\"test mail\",body=\"this is my mail\")"
   ]
  },
  {
   "cell_type": "code",
   "execution_count": null,
   "id": "48524f13",
   "metadata": {},
   "outputs": [],
   "source": []
  }
 ],
 "metadata": {
  "kernelspec": {
   "display_name": "base",
   "language": "python",
   "name": "python3"
  },
  "language_info": {
   "codemirror_mode": {
    "name": "ipython",
    "version": 3
   },
   "file_extension": ".py",
   "mimetype": "text/x-python",
   "name": "python",
   "nbconvert_exporter": "python",
   "pygments_lexer": "ipython3",
   "version": "3.12.7"
  }
 },
 "nbformat": 4,
 "nbformat_minor": 5
}
