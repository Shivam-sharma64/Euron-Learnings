{
 "cells": [
  {
   "cell_type": "code",
   "execution_count": 11,
   "id": "e3fced8e",
   "metadata": {},
   "outputs": [],
   "source": [
    "s='shivam'"
   ]
  },
  {
   "cell_type": "code",
   "execution_count": 12,
   "id": "939a0336",
   "metadata": {},
   "outputs": [],
   "source": [
    "s1=\"shivam\""
   ]
  },
  {
   "cell_type": "code",
   "execution_count": 13,
   "id": "954e9f9c",
   "metadata": {},
   "outputs": [],
   "source": [
    "s2=\"\"\"my name is shivam\"\"\""
   ]
  },
  {
   "cell_type": "code",
   "execution_count": 14,
   "id": "264a85f8",
   "metadata": {},
   "outputs": [
    {
     "data": {
      "text/plain": [
       "str"
      ]
     },
     "execution_count": 14,
     "metadata": {},
     "output_type": "execute_result"
    }
   ],
   "source": [
    "type(s)"
   ]
  },
  {
   "cell_type": "code",
   "execution_count": 15,
   "id": "e664c310",
   "metadata": {},
   "outputs": [
    {
     "data": {
      "text/plain": [
       "str"
      ]
     },
     "execution_count": 15,
     "metadata": {},
     "output_type": "execute_result"
    }
   ],
   "source": [
    "type(s1)"
   ]
  },
  {
   "cell_type": "code",
   "execution_count": 16,
   "id": "0c301c0e",
   "metadata": {},
   "outputs": [
    {
     "data": {
      "text/plain": [
       "str"
      ]
     },
     "execution_count": 16,
     "metadata": {},
     "output_type": "execute_result"
    }
   ],
   "source": [
    "type(s2)"
   ]
  },
  {
   "cell_type": "code",
   "execution_count": 19,
   "id": "359fc895",
   "metadata": {},
   "outputs": [],
   "source": [
    "s3='don\"t'"
   ]
  },
  {
   "cell_type": "code",
   "execution_count": 20,
   "id": "9173a170",
   "metadata": {},
   "outputs": [],
   "source": [
    "s4=\"don't\""
   ]
  },
  {
   "cell_type": "code",
   "execution_count": 21,
   "id": "6052f695",
   "metadata": {},
   "outputs": [],
   "source": [
    "a=\"data nuggetz\""
   ]
  },
  {
   "cell_type": "code",
   "execution_count": 22,
   "id": "bdf19b16",
   "metadata": {},
   "outputs": [
    {
     "data": {
      "text/plain": [
       "'d'"
      ]
     },
     "execution_count": 22,
     "metadata": {},
     "output_type": "execute_result"
    }
   ],
   "source": [
    "a[0]"
   ]
  },
  {
   "cell_type": "code",
   "execution_count": 23,
   "id": "69fba084",
   "metadata": {},
   "outputs": [
    {
     "data": {
      "text/plain": [
       "'z'"
      ]
     },
     "execution_count": 23,
     "metadata": {},
     "output_type": "execute_result"
    }
   ],
   "source": [
    "a[-1]"
   ]
  },
  {
   "cell_type": "code",
   "execution_count": 24,
   "id": "5a87f75b",
   "metadata": {},
   "outputs": [],
   "source": [
    "#slicing"
   ]
  },
  {
   "cell_type": "code",
   "execution_count": 27,
   "id": "967ab47c",
   "metadata": {},
   "outputs": [
    {
     "data": {
      "text/plain": [
       "'data'"
      ]
     },
     "execution_count": 27,
     "metadata": {},
     "output_type": "execute_result"
    }
   ],
   "source": [
    "a[0:4]"
   ]
  },
  {
   "cell_type": "code",
   "execution_count": 30,
   "id": "57b2c0ef",
   "metadata": {},
   "outputs": [
    {
     "data": {
      "text/plain": [
       "'zteggun'"
      ]
     },
     "execution_count": 30,
     "metadata": {},
     "output_type": "execute_result"
    }
   ],
   "source": [
    "a[-1:4:-1]"
   ]
  }
 ],
 "metadata": {
  "kernelspec": {
   "display_name": "base",
   "language": "python",
   "name": "python3"
  },
  "language_info": {
   "codemirror_mode": {
    "name": "ipython",
    "version": 3
   },
   "file_extension": ".py",
   "mimetype": "text/x-python",
   "name": "python",
   "nbconvert_exporter": "python",
   "pygments_lexer": "ipython3",
   "version": "3.12.7"
  }
 },
 "nbformat": 4,
 "nbformat_minor": 5
}
